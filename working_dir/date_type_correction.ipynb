{
 "cells": [
  {
   "cell_type": "markdown",
   "id": "17cc9f54",
   "metadata": {},
   "source": [
    "## Sales Data Timestamp Correction Notebook\n",
    "\n",
    "This notebook was created to solve the issue regarding the Sales Timestamp column."
   ]
  },
  {
   "cell_type": "code",
   "execution_count": 12,
   "id": "8466634c",
   "metadata": {},
   "outputs": [],
   "source": [
    "import pandas as pd\n",
    "from datetime import datetime\n",
    "import openpyxl"
   ]
  },
  {
   "cell_type": "code",
   "execution_count": 13,
   "id": "899f8bd5",
   "metadata": {},
   "outputs": [],
   "source": [
    "# Read sales (csv) file\n",
    "# df = pd.read_csv(r'datasets\\sales_data.csv')\n",
    "\n",
    "df = pd.read_excel(r'main_workspace.xlsx', sheet_name='Sales_data', engine='openpyxl')"
   ]
  },
  {
   "cell_type": "code",
   "execution_count": 14,
   "id": "1d868ad0",
   "metadata": {},
   "outputs": [
    {
     "name": "stdout",
     "output_type": "stream",
     "text": [
      "<class 'pandas.core.frame.DataFrame'>\n",
      "RangeIndex: 1501 entries, 0 to 1500\n",
      "Data columns (total 5 columns):\n",
      " #   Column                 Non-Null Count  Dtype \n",
      "---  ------                 --------------  ----- \n",
      " 0   Customer_ID            1501 non-null   int64 \n",
      " 1   Transaction_ID         1501 non-null   int64 \n",
      " 2   Product SKU            1501 non-null   int64 \n",
      " 3   Quantity Sold (units)  1501 non-null   int64 \n",
      " 4   Timestamp              1501 non-null   object\n",
      "dtypes: int64(4), object(1)\n",
      "memory usage: 58.8+ KB\n"
     ]
    }
   ],
   "source": [
    "df.info()"
   ]
  },
  {
   "cell_type": "code",
   "execution_count": 15,
   "id": "e4e7d445",
   "metadata": {},
   "outputs": [],
   "source": [
    "# Convert 'Timestamp' column to datetime data type\n",
    "\n",
    "df['Timestamp'] = pd.to_datetime(df['Timestamp'], errors='coerce')"
   ]
  },
  {
   "cell_type": "code",
   "execution_count": 5,
   "id": "0f1859e2",
   "metadata": {},
   "outputs": [
    {
     "name": "stdout",
     "output_type": "stream",
     "text": [
      "<class 'pandas.core.frame.DataFrame'>\n",
      "RangeIndex: 1501 entries, 0 to 1500\n",
      "Data columns (total 5 columns):\n",
      " #   Column                 Non-Null Count  Dtype         \n",
      "---  ------                 --------------  -----         \n",
      " 0   Customer_ID            1501 non-null   int64         \n",
      " 1   Transaction_ID         1501 non-null   int64         \n",
      " 2   Product SKU            1501 non-null   int64         \n",
      " 3   Quantity Sold (units)  1501 non-null   int64         \n",
      " 4   Timestamp              1501 non-null   datetime64[ns]\n",
      "dtypes: datetime64[ns](1), int64(4)\n",
      "memory usage: 58.8 KB\n"
     ]
    }
   ],
   "source": [
    "df.info()"
   ]
  },
  {
   "cell_type": "code",
   "execution_count": null,
   "id": "4cae5750",
   "metadata": {},
   "outputs": [],
   "source": [
    "# Replace existing 'main_workspace.xlsx' with new/corrected Sales_data\n",
    "with pd.ExcelWriter('main_workspace.xlsx', engine='openpyxl', mode='a', if_sheet_exists='replace') as writer:\n",
    "    df.to_excel(writer, index=False)"
   ]
  }
 ],
 "metadata": {
  "kernelspec": {
   "display_name": "Python 3",
   "language": "python",
   "name": "python3"
  },
  "language_info": {
   "codemirror_mode": {
    "name": "ipython",
    "version": 3
   },
   "file_extension": ".py",
   "mimetype": "text/x-python",
   "name": "python",
   "nbconvert_exporter": "python",
   "pygments_lexer": "ipython3",
   "version": "3.12.3"
  }
 },
 "nbformat": 4,
 "nbformat_minor": 5
}
