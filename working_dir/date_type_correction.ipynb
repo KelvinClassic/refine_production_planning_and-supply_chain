{
 "cells": [
  {
   "cell_type": "markdown",
   "id": "17cc9f54",
   "metadata": {},
   "source": [
    "## Sales Data Timestamp Correction Notebook\n",
    "\n",
    "This notebook was created to solve the issue regarding the Sales Timestamp column."
   ]
  },
  {
   "cell_type": "code",
   "execution_count": 1,
   "id": "8466634c",
   "metadata": {},
   "outputs": [],
   "source": [
    "import pandas as pd\n",
    "from datetime import datetime\n",
    "import openpyxl"
   ]
  },
  {
   "cell_type": "code",
   "execution_count": 2,
   "id": "899f8bd5",
   "metadata": {},
   "outputs": [],
   "source": [
    "# Read sales (csv) file\n",
    "# df = pd.read_csv(r'datasets\\sales_data.csv')\"\"\n",
    "\n",
    "df = pd.read_excel(r'main_workspace.xlsx', sheet_name='Sales_data', engine='openpyxl')"
   ]
  },
  {
   "cell_type": "code",
   "execution_count": 3,
   "id": "1d868ad0",
   "metadata": {},
   "outputs": [
    {
     "name": "stdout",
     "output_type": "stream",
     "text": [
      "<class 'pandas.core.frame.DataFrame'>\n",
      "RangeIndex: 1501 entries, 0 to 1500\n",
      "Data columns (total 5 columns):\n",
      " #   Column                 Non-Null Count  Dtype \n",
      "---  ------                 --------------  ----- \n",
      " 0   Customer_ID            1501 non-null   int64 \n",
      " 1   Transaction_ID         1501 non-null   int64 \n",
      " 2   Product SKU            1501 non-null   int64 \n",
      " 3   Quantity Sold (units)  1501 non-null   int64 \n",
      " 4   Timestamp              1501 non-null   object\n",
      "dtypes: int64(4), object(1)\n",
      "memory usage: 58.8+ KB\n"
     ]
    }
   ],
   "source": [
    "df.info()"
   ]
  },
  {
   "cell_type": "code",
   "execution_count": 4,
   "id": "e4e7d445",
   "metadata": {},
   "outputs": [],
   "source": [
    "# Convert 'Timestamp' column to datetime data type\n",
    "\n",
    "df['Timestamp'] = pd.to_datetime(df['Timestamp'], errors='coerce')"
   ]
  },
  {
   "cell_type": "code",
   "execution_count": 5,
   "id": "0f1859e2",
   "metadata": {},
   "outputs": [
    {
     "name": "stdout",
     "output_type": "stream",
     "text": [
      "<class 'pandas.core.frame.DataFrame'>\n",
      "RangeIndex: 1501 entries, 0 to 1500\n",
      "Data columns (total 5 columns):\n",
      " #   Column                 Non-Null Count  Dtype         \n",
      "---  ------                 --------------  -----         \n",
      " 0   Customer_ID            1501 non-null   int64         \n",
      " 1   Transaction_ID         1501 non-null   int64         \n",
      " 2   Product SKU            1501 non-null   int64         \n",
      " 3   Quantity Sold (units)  1501 non-null   int64         \n",
      " 4   Timestamp              1501 non-null   datetime64[ns]\n",
      "dtypes: datetime64[ns](1), int64(4)\n",
      "memory usage: 58.8 KB\n"
     ]
    }
   ],
   "source": [
    "df.info()"
   ]
  },
  {
   "cell_type": "code",
   "execution_count": 6,
   "id": "a7361250",
   "metadata": {},
   "outputs": [
    {
     "data": {
      "text/html": [
       "<div>\n",
       "<style scoped>\n",
       "    .dataframe tbody tr th:only-of-type {\n",
       "        vertical-align: middle;\n",
       "    }\n",
       "\n",
       "    .dataframe tbody tr th {\n",
       "        vertical-align: top;\n",
       "    }\n",
       "\n",
       "    .dataframe thead th {\n",
       "        text-align: right;\n",
       "    }\n",
       "</style>\n",
       "<table border=\"1\" class=\"dataframe\">\n",
       "  <thead>\n",
       "    <tr style=\"text-align: right;\">\n",
       "      <th></th>\n",
       "      <th>Customer_ID</th>\n",
       "      <th>Transaction_ID</th>\n",
       "      <th>Product SKU</th>\n",
       "      <th>Quantity Sold (units)</th>\n",
       "      <th>Timestamp</th>\n",
       "    </tr>\n",
       "  </thead>\n",
       "  <tbody>\n",
       "    <tr>\n",
       "      <th>0</th>\n",
       "      <td>494</td>\n",
       "      <td>1</td>\n",
       "      <td>59</td>\n",
       "      <td>9</td>\n",
       "      <td>2026-02-01 00:00:00</td>\n",
       "    </tr>\n",
       "    <tr>\n",
       "      <th>1</th>\n",
       "      <td>1179</td>\n",
       "      <td>2</td>\n",
       "      <td>44</td>\n",
       "      <td>8</td>\n",
       "      <td>2026-02-01 01:00:00</td>\n",
       "    </tr>\n",
       "    <tr>\n",
       "      <th>2</th>\n",
       "      <td>923</td>\n",
       "      <td>3</td>\n",
       "      <td>44</td>\n",
       "      <td>2</td>\n",
       "      <td>2026-02-01 02:00:00</td>\n",
       "    </tr>\n",
       "  </tbody>\n",
       "</table>\n",
       "</div>"
      ],
      "text/plain": [
       "   Customer_ID  Transaction_ID  Product SKU  Quantity Sold (units)  \\\n",
       "0          494               1           59                      9   \n",
       "1         1179               2           44                      8   \n",
       "2          923               3           44                      2   \n",
       "\n",
       "            Timestamp  \n",
       "0 2026-02-01 00:00:00  \n",
       "1 2026-02-01 01:00:00  \n",
       "2 2026-02-01 02:00:00  "
      ]
     },
     "execution_count": 6,
     "metadata": {},
     "output_type": "execute_result"
    }
   ],
   "source": [
    "df.head(3)"
   ]
  },
  {
   "cell_type": "code",
   "execution_count": 7,
   "id": "73a3b303",
   "metadata": {},
   "outputs": [],
   "source": [
    "# Create sales date column\n",
    "df['Actual_Date'] = df['Timestamp'].dt.date"
   ]
  },
  {
   "cell_type": "code",
   "execution_count": 8,
   "id": "5f2d3132",
   "metadata": {},
   "outputs": [
    {
     "data": {
      "text/html": [
       "<div>\n",
       "<style scoped>\n",
       "    .dataframe tbody tr th:only-of-type {\n",
       "        vertical-align: middle;\n",
       "    }\n",
       "\n",
       "    .dataframe tbody tr th {\n",
       "        vertical-align: top;\n",
       "    }\n",
       "\n",
       "    .dataframe thead th {\n",
       "        text-align: right;\n",
       "    }\n",
       "</style>\n",
       "<table border=\"1\" class=\"dataframe\">\n",
       "  <thead>\n",
       "    <tr style=\"text-align: right;\">\n",
       "      <th></th>\n",
       "      <th>Customer_ID</th>\n",
       "      <th>Transaction_ID</th>\n",
       "      <th>Product SKU</th>\n",
       "      <th>Quantity Sold (units)</th>\n",
       "      <th>Timestamp</th>\n",
       "      <th>Actual_Date</th>\n",
       "    </tr>\n",
       "  </thead>\n",
       "  <tbody>\n",
       "    <tr>\n",
       "      <th>0</th>\n",
       "      <td>494</td>\n",
       "      <td>1</td>\n",
       "      <td>59</td>\n",
       "      <td>9</td>\n",
       "      <td>2026-02-01 00:00:00</td>\n",
       "      <td>2026-02-01</td>\n",
       "    </tr>\n",
       "    <tr>\n",
       "      <th>1</th>\n",
       "      <td>1179</td>\n",
       "      <td>2</td>\n",
       "      <td>44</td>\n",
       "      <td>8</td>\n",
       "      <td>2026-02-01 01:00:00</td>\n",
       "      <td>2026-02-01</td>\n",
       "    </tr>\n",
       "    <tr>\n",
       "      <th>2</th>\n",
       "      <td>923</td>\n",
       "      <td>3</td>\n",
       "      <td>44</td>\n",
       "      <td>2</td>\n",
       "      <td>2026-02-01 02:00:00</td>\n",
       "      <td>2026-02-01</td>\n",
       "    </tr>\n",
       "  </tbody>\n",
       "</table>\n",
       "</div>"
      ],
      "text/plain": [
       "   Customer_ID  Transaction_ID  Product SKU  Quantity Sold (units)  \\\n",
       "0          494               1           59                      9   \n",
       "1         1179               2           44                      8   \n",
       "2          923               3           44                      2   \n",
       "\n",
       "            Timestamp Actual_Date  \n",
       "0 2026-02-01 00:00:00  2026-02-01  \n",
       "1 2026-02-01 01:00:00  2026-02-01  \n",
       "2 2026-02-01 02:00:00  2026-02-01  "
      ]
     },
     "execution_count": 8,
     "metadata": {},
     "output_type": "execute_result"
    }
   ],
   "source": [
    "df.head(3)"
   ]
  },
  {
   "cell_type": "code",
   "execution_count": 9,
   "id": "9376e4c6",
   "metadata": {},
   "outputs": [
    {
     "name": "stdout",
     "output_type": "stream",
     "text": [
      "<class 'pandas.core.frame.DataFrame'>\n",
      "RangeIndex: 1501 entries, 0 to 1500\n",
      "Data columns (total 6 columns):\n",
      " #   Column                 Non-Null Count  Dtype         \n",
      "---  ------                 --------------  -----         \n",
      " 0   Customer_ID            1501 non-null   int64         \n",
      " 1   Transaction_ID         1501 non-null   int64         \n",
      " 2   Product SKU            1501 non-null   int64         \n",
      " 3   Quantity Sold (units)  1501 non-null   int64         \n",
      " 4   Timestamp              1501 non-null   datetime64[ns]\n",
      " 5   Actual_Date            1501 non-null   object        \n",
      "dtypes: datetime64[ns](1), int64(4), object(1)\n",
      "memory usage: 70.5+ KB\n"
     ]
    }
   ],
   "source": [
    "df.info()"
   ]
  },
  {
   "cell_type": "code",
   "execution_count": 10,
   "id": "73125f64",
   "metadata": {},
   "outputs": [],
   "source": [
    "# Create sales time column\n",
    "df['Actual_Time'] = df['Timestamp'].dt.time"
   ]
  },
  {
   "cell_type": "code",
   "execution_count": 11,
   "id": "11012684",
   "metadata": {},
   "outputs": [
    {
     "name": "stdout",
     "output_type": "stream",
     "text": [
      "<class 'pandas.core.frame.DataFrame'>\n",
      "RangeIndex: 1501 entries, 0 to 1500\n",
      "Data columns (total 7 columns):\n",
      " #   Column                 Non-Null Count  Dtype         \n",
      "---  ------                 --------------  -----         \n",
      " 0   Customer_ID            1501 non-null   int64         \n",
      " 1   Transaction_ID         1501 non-null   int64         \n",
      " 2   Product SKU            1501 non-null   int64         \n",
      " 3   Quantity Sold (units)  1501 non-null   int64         \n",
      " 4   Timestamp              1501 non-null   datetime64[ns]\n",
      " 5   Actual_Date            1501 non-null   object        \n",
      " 6   Actual_Time            1501 non-null   object        \n",
      "dtypes: datetime64[ns](1), int64(4), object(2)\n",
      "memory usage: 82.2+ KB\n"
     ]
    }
   ],
   "source": [
    "df.info()"
   ]
  },
  {
   "cell_type": "code",
   "execution_count": 12,
   "id": "6ec80323",
   "metadata": {},
   "outputs": [
    {
     "data": {
      "text/html": [
       "<div>\n",
       "<style scoped>\n",
       "    .dataframe tbody tr th:only-of-type {\n",
       "        vertical-align: middle;\n",
       "    }\n",
       "\n",
       "    .dataframe tbody tr th {\n",
       "        vertical-align: top;\n",
       "    }\n",
       "\n",
       "    .dataframe thead th {\n",
       "        text-align: right;\n",
       "    }\n",
       "</style>\n",
       "<table border=\"1\" class=\"dataframe\">\n",
       "  <thead>\n",
       "    <tr style=\"text-align: right;\">\n",
       "      <th></th>\n",
       "      <th>Customer_ID</th>\n",
       "      <th>Transaction_ID</th>\n",
       "      <th>Product SKU</th>\n",
       "      <th>Quantity Sold (units)</th>\n",
       "      <th>Timestamp</th>\n",
       "      <th>Actual_Date</th>\n",
       "      <th>Actual_Time</th>\n",
       "    </tr>\n",
       "  </thead>\n",
       "  <tbody>\n",
       "    <tr>\n",
       "      <th>0</th>\n",
       "      <td>494</td>\n",
       "      <td>1</td>\n",
       "      <td>59</td>\n",
       "      <td>9</td>\n",
       "      <td>2026-02-01 00:00:00</td>\n",
       "      <td>2026-02-01</td>\n",
       "      <td>00:00:00</td>\n",
       "    </tr>\n",
       "    <tr>\n",
       "      <th>1</th>\n",
       "      <td>1179</td>\n",
       "      <td>2</td>\n",
       "      <td>44</td>\n",
       "      <td>8</td>\n",
       "      <td>2026-02-01 01:00:00</td>\n",
       "      <td>2026-02-01</td>\n",
       "      <td>01:00:00</td>\n",
       "    </tr>\n",
       "    <tr>\n",
       "      <th>2</th>\n",
       "      <td>923</td>\n",
       "      <td>3</td>\n",
       "      <td>44</td>\n",
       "      <td>2</td>\n",
       "      <td>2026-02-01 02:00:00</td>\n",
       "      <td>2026-02-01</td>\n",
       "      <td>02:00:00</td>\n",
       "    </tr>\n",
       "  </tbody>\n",
       "</table>\n",
       "</div>"
      ],
      "text/plain": [
       "   Customer_ID  Transaction_ID  Product SKU  Quantity Sold (units)  \\\n",
       "0          494               1           59                      9   \n",
       "1         1179               2           44                      8   \n",
       "2          923               3           44                      2   \n",
       "\n",
       "            Timestamp Actual_Date Actual_Time  \n",
       "0 2026-02-01 00:00:00  2026-02-01    00:00:00  \n",
       "1 2026-02-01 01:00:00  2026-02-01    01:00:00  \n",
       "2 2026-02-01 02:00:00  2026-02-01    02:00:00  "
      ]
     },
     "execution_count": 12,
     "metadata": {},
     "output_type": "execute_result"
    }
   ],
   "source": [
    "df.head(3)"
   ]
  },
  {
   "cell_type": "code",
   "execution_count": 13,
   "id": "4cae5750",
   "metadata": {},
   "outputs": [],
   "source": [
    "# Replace existing 'main_workspace.xlsx' with new/corrected Sales_data\n",
    "with pd.ExcelWriter('main_workspace.xlsx', engine='openpyxl', mode='a', if_sheet_exists='replace') as writer:\n",
    "    df.to_excel(writer, sheet_name='Sales_data_new', index=False)"
   ]
  }
 ],
 "metadata": {
  "kernelspec": {
   "display_name": "new_venv",
   "language": "python",
   "name": "python3"
  },
  "language_info": {
   "codemirror_mode": {
    "name": "ipython",
    "version": 3
   },
   "file_extension": ".py",
   "mimetype": "text/x-python",
   "name": "python",
   "nbconvert_exporter": "python",
   "pygments_lexer": "ipython3",
   "version": "3.12.3"
  }
 },
 "nbformat": 4,
 "nbformat_minor": 5
}
